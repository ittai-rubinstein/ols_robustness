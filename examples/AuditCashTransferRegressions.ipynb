{
 "cells": [
  {
   "cell_type": "code",
   "execution_count": null,
   "id": "initial_id",
   "metadata": {
    "collapsed": true
   },
   "outputs": [],
   "source": [
    "import pandas as pd\n",
    "import numpy as np\n",
    "from src.robustness_auditor import AuditorConfig, RobustnessAuditor\n",
    "from pathlib import Path\n",
    "import os\n",
    "from data.angelucci_degiorgi_data import load_angelucci_data\n",
    "\n",
    "datasets = load_angelucci_data(1)\n",
    "\n",
    "CURRENT_DIR = Path(os.getcwd())\n",
    "base_dir = CURRENT_DIR / \"temp\" / \"cash_transfers\"\n",
    "results = []\n",
    "for dataset in datasets:\n",
    "    name = f\"t_{dataset.time_period}_treat_{dataset.treatment}\"\n",
    "    for i in range(2):\n",
    "        print('*'*80)\n",
    "    print(f\"Running on {name=}\")\n",
    "    for i in range(2):\n",
    "        print('*'*80)\n",
    "    output_dir = base_dir / name\n",
    "    config = AuditorConfig(output_dir=output_dir)\n",
    "    ra = RobustnessAuditor(dataset.regression, config)\n",
    "    ra.compute_all_bounds(categorical_aware=True)\n",
    "    ra.plot_removal_effects()\n",
    "    result = ra.summary()\n",
    "    result[\"experiment\"] = name\n",
    "    results.append(result)\n",
    "    df = pd.DataFrame(results)\n",
    "    df = df[[\"experiment\"] + [col for col in df.columns if col != \"experiment\"]]\n",
    "    print(df)"
   ]
  }
 ],
 "metadata": {
  "kernelspec": {
   "display_name": "Python 3",
   "language": "python",
   "name": "python3"
  },
  "language_info": {
   "codemirror_mode": {
    "name": "ipython",
    "version": 2
   },
   "file_extension": ".py",
   "mimetype": "text/x-python",
   "name": "python",
   "nbconvert_exporter": "python",
   "pygments_lexer": "ipython2",
   "version": "2.7.6"
  }
 },
 "nbformat": 4,
 "nbformat_minor": 5
}
